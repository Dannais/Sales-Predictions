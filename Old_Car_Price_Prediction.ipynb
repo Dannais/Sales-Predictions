{
  "nbformat": 4,
  "nbformat_minor": 0,
  "metadata": {
    "colab": {
      "provenance": [],
      "authorship_tag": "ABX9TyP1eEssrbFliBTXY5WUtX8U",
      "include_colab_link": true
    },
    "kernelspec": {
      "name": "python3",
      "display_name": "Python 3"
    },
    "language_info": {
      "name": "python"
    }
  },
  "cells": [
    {
      "cell_type": "markdown",
      "metadata": {
        "id": "view-in-github",
        "colab_type": "text"
      },
      "source": [
        "<a href=\"https://colab.research.google.com/github/Dannais/sales_predictions/blob/main/Old_Car_Price_Prediction.ipynb\" target=\"_parent\"><img src=\"https://colab.research.google.com/assets/colab-badge.svg\" alt=\"Open In Colab\"/></a>"
      ]
    },
    {
      "cell_type": "code",
      "execution_count": 1,
      "metadata": {
        "colab": {
          "base_uri": "https://localhost:8080/"
        },
        "id": "upgr3LPpOED6",
        "outputId": "c026ccb6-38e5-4e8f-9d44-743eeba30a98"
      },
      "outputs": [
        {
          "output_type": "stream",
          "name": "stdout",
          "text": [
            "Mounted at /content/drive\n"
          ]
        }
      ],
      "source": [
        "from google.colab import drive\n",
        "drive.mount('/content/drive')"
      ]
    },
    {
      "cell_type": "code",
      "source": [
        "# Importar las bibliotecas\n",
        "import matplotlib.pyplot as plt\n",
        "import pandas as pd\n",
        "import numpy as np"
      ],
      "metadata": {
        "id": "qxdcGptvPHVb"
      },
      "execution_count": 4,
      "outputs": []
    },
    {
      "cell_type": "code",
      "source": [
        "# Cargar el conjunto de datos\n",
        "filename = '/content/drive/MyDrive/Cursos Data Science/Coding Dojo/2. Machine Learning/0. Fuente de Datos/car_price.csv'\n",
        "df = pd.read_csv(filename)\n",
        "df.head()"
      ],
      "metadata": {
        "colab": {
          "base_uri": "https://localhost:8080/",
          "height": 206
        },
        "id": "2wWZixITPLWc",
        "outputId": "57dbc575-b058-438b-853c-70a850a26cfa"
      },
      "execution_count": 7,
      "outputs": [
        {
          "output_type": "execute_result",
          "data": {
            "text/plain": [
              "   Unnamed: 0                                car_name car_prices_in_rupee  \\\n",
              "0           0  Jeep Compass 2.0 Longitude Option BSIV          10.03 Lakh   \n",
              "1           1            Renault Duster RXZ Turbo CVT          12.83 Lakh   \n",
              "2           2                      Toyota Camry 2.5 G          16.40 Lakh   \n",
              "3           3                       Honda Jazz VX CVT           7.77 Lakh   \n",
              "4           4        Volkswagen Polo 1.2 MPI Highline           5.15 Lakh   \n",
              "\n",
              "   kms_driven fuel_type transmission  ownership  manufacture   engine    Seats  \n",
              "0  86,226 kms    Diesel       Manual  1st Owner         2017  1956 cc  5 Seats  \n",
              "1  13,248 kms    Petrol    Automatic  1st Owner         2021  1330 cc  5 Seats  \n",
              "2  60,343 kms    Petrol    Automatic  1st Owner         2016  2494 cc  5 Seats  \n",
              "3  26,696 kms    Petrol    Automatic  1st Owner         2018  1199 cc  5 Seats  \n",
              "4  69,414 kms    Petrol       Manual  1st Owner         2016  1199 cc  5 Seats  "
            ],
            "text/html": [
              "\n",
              "  <div id=\"df-e0d9ed7d-37d9-439f-a6d0-70b3f4cecf6d\">\n",
              "    <div class=\"colab-df-container\">\n",
              "      <div>\n",
              "<style scoped>\n",
              "    .dataframe tbody tr th:only-of-type {\n",
              "        vertical-align: middle;\n",
              "    }\n",
              "\n",
              "    .dataframe tbody tr th {\n",
              "        vertical-align: top;\n",
              "    }\n",
              "\n",
              "    .dataframe thead th {\n",
              "        text-align: right;\n",
              "    }\n",
              "</style>\n",
              "<table border=\"1\" class=\"dataframe\">\n",
              "  <thead>\n",
              "    <tr style=\"text-align: right;\">\n",
              "      <th></th>\n",
              "      <th>Unnamed: 0</th>\n",
              "      <th>car_name</th>\n",
              "      <th>car_prices_in_rupee</th>\n",
              "      <th>kms_driven</th>\n",
              "      <th>fuel_type</th>\n",
              "      <th>transmission</th>\n",
              "      <th>ownership</th>\n",
              "      <th>manufacture</th>\n",
              "      <th>engine</th>\n",
              "      <th>Seats</th>\n",
              "    </tr>\n",
              "  </thead>\n",
              "  <tbody>\n",
              "    <tr>\n",
              "      <th>0</th>\n",
              "      <td>0</td>\n",
              "      <td>Jeep Compass 2.0 Longitude Option BSIV</td>\n",
              "      <td>10.03 Lakh</td>\n",
              "      <td>86,226 kms</td>\n",
              "      <td>Diesel</td>\n",
              "      <td>Manual</td>\n",
              "      <td>1st Owner</td>\n",
              "      <td>2017</td>\n",
              "      <td>1956 cc</td>\n",
              "      <td>5 Seats</td>\n",
              "    </tr>\n",
              "    <tr>\n",
              "      <th>1</th>\n",
              "      <td>1</td>\n",
              "      <td>Renault Duster RXZ Turbo CVT</td>\n",
              "      <td>12.83 Lakh</td>\n",
              "      <td>13,248 kms</td>\n",
              "      <td>Petrol</td>\n",
              "      <td>Automatic</td>\n",
              "      <td>1st Owner</td>\n",
              "      <td>2021</td>\n",
              "      <td>1330 cc</td>\n",
              "      <td>5 Seats</td>\n",
              "    </tr>\n",
              "    <tr>\n",
              "      <th>2</th>\n",
              "      <td>2</td>\n",
              "      <td>Toyota Camry 2.5 G</td>\n",
              "      <td>16.40 Lakh</td>\n",
              "      <td>60,343 kms</td>\n",
              "      <td>Petrol</td>\n",
              "      <td>Automatic</td>\n",
              "      <td>1st Owner</td>\n",
              "      <td>2016</td>\n",
              "      <td>2494 cc</td>\n",
              "      <td>5 Seats</td>\n",
              "    </tr>\n",
              "    <tr>\n",
              "      <th>3</th>\n",
              "      <td>3</td>\n",
              "      <td>Honda Jazz VX CVT</td>\n",
              "      <td>7.77 Lakh</td>\n",
              "      <td>26,696 kms</td>\n",
              "      <td>Petrol</td>\n",
              "      <td>Automatic</td>\n",
              "      <td>1st Owner</td>\n",
              "      <td>2018</td>\n",
              "      <td>1199 cc</td>\n",
              "      <td>5 Seats</td>\n",
              "    </tr>\n",
              "    <tr>\n",
              "      <th>4</th>\n",
              "      <td>4</td>\n",
              "      <td>Volkswagen Polo 1.2 MPI Highline</td>\n",
              "      <td>5.15 Lakh</td>\n",
              "      <td>69,414 kms</td>\n",
              "      <td>Petrol</td>\n",
              "      <td>Manual</td>\n",
              "      <td>1st Owner</td>\n",
              "      <td>2016</td>\n",
              "      <td>1199 cc</td>\n",
              "      <td>5 Seats</td>\n",
              "    </tr>\n",
              "  </tbody>\n",
              "</table>\n",
              "</div>\n",
              "      <button class=\"colab-df-convert\" onclick=\"convertToInteractive('df-e0d9ed7d-37d9-439f-a6d0-70b3f4cecf6d')\"\n",
              "              title=\"Convert this dataframe to an interactive table.\"\n",
              "              style=\"display:none;\">\n",
              "        \n",
              "  <svg xmlns=\"http://www.w3.org/2000/svg\" height=\"24px\"viewBox=\"0 0 24 24\"\n",
              "       width=\"24px\">\n",
              "    <path d=\"M0 0h24v24H0V0z\" fill=\"none\"/>\n",
              "    <path d=\"M18.56 5.44l.94 2.06.94-2.06 2.06-.94-2.06-.94-.94-2.06-.94 2.06-2.06.94zm-11 1L8.5 8.5l.94-2.06 2.06-.94-2.06-.94L8.5 2.5l-.94 2.06-2.06.94zm10 10l.94 2.06.94-2.06 2.06-.94-2.06-.94-.94-2.06-.94 2.06-2.06.94z\"/><path d=\"M17.41 7.96l-1.37-1.37c-.4-.4-.92-.59-1.43-.59-.52 0-1.04.2-1.43.59L10.3 9.45l-7.72 7.72c-.78.78-.78 2.05 0 2.83L4 21.41c.39.39.9.59 1.41.59.51 0 1.02-.2 1.41-.59l7.78-7.78 2.81-2.81c.8-.78.8-2.07 0-2.86zM5.41 20L4 18.59l7.72-7.72 1.47 1.35L5.41 20z\"/>\n",
              "  </svg>\n",
              "      </button>\n",
              "      \n",
              "  <style>\n",
              "    .colab-df-container {\n",
              "      display:flex;\n",
              "      flex-wrap:wrap;\n",
              "      gap: 12px;\n",
              "    }\n",
              "\n",
              "    .colab-df-convert {\n",
              "      background-color: #E8F0FE;\n",
              "      border: none;\n",
              "      border-radius: 50%;\n",
              "      cursor: pointer;\n",
              "      display: none;\n",
              "      fill: #1967D2;\n",
              "      height: 32px;\n",
              "      padding: 0 0 0 0;\n",
              "      width: 32px;\n",
              "    }\n",
              "\n",
              "    .colab-df-convert:hover {\n",
              "      background-color: #E2EBFA;\n",
              "      box-shadow: 0px 1px 2px rgba(60, 64, 67, 0.3), 0px 1px 3px 1px rgba(60, 64, 67, 0.15);\n",
              "      fill: #174EA6;\n",
              "    }\n",
              "\n",
              "    [theme=dark] .colab-df-convert {\n",
              "      background-color: #3B4455;\n",
              "      fill: #D2E3FC;\n",
              "    }\n",
              "\n",
              "    [theme=dark] .colab-df-convert:hover {\n",
              "      background-color: #434B5C;\n",
              "      box-shadow: 0px 1px 3px 1px rgba(0, 0, 0, 0.15);\n",
              "      filter: drop-shadow(0px 1px 2px rgba(0, 0, 0, 0.3));\n",
              "      fill: #FFFFFF;\n",
              "    }\n",
              "  </style>\n",
              "\n",
              "      <script>\n",
              "        const buttonEl =\n",
              "          document.querySelector('#df-e0d9ed7d-37d9-439f-a6d0-70b3f4cecf6d button.colab-df-convert');\n",
              "        buttonEl.style.display =\n",
              "          google.colab.kernel.accessAllowed ? 'block' : 'none';\n",
              "\n",
              "        async function convertToInteractive(key) {\n",
              "          const element = document.querySelector('#df-e0d9ed7d-37d9-439f-a6d0-70b3f4cecf6d');\n",
              "          const dataTable =\n",
              "            await google.colab.kernel.invokeFunction('convertToInteractive',\n",
              "                                                     [key], {});\n",
              "          if (!dataTable) return;\n",
              "\n",
              "          const docLinkHtml = 'Like what you see? Visit the ' +\n",
              "            '<a target=\"_blank\" href=https://colab.research.google.com/notebooks/data_table.ipynb>data table notebook</a>'\n",
              "            + ' to learn more about interactive tables.';\n",
              "          element.innerHTML = '';\n",
              "          dataTable['output_type'] = 'display_data';\n",
              "          await google.colab.output.renderOutput(dataTable, element);\n",
              "          const docLink = document.createElement('div');\n",
              "          docLink.innerHTML = docLinkHtml;\n",
              "          element.appendChild(docLink);\n",
              "        }\n",
              "      </script>\n",
              "    </div>\n",
              "  </div>\n",
              "  "
            ]
          },
          "metadata": {},
          "execution_count": 7
        }
      ]
    },
    {
      "cell_type": "markdown",
      "source": [
        "# **Detalle de la fuente de datos**\n",
        "\n",
        "**1) Fuente de datos**\n",
        "\n",
        "Se obtuvo la fuente mediante la plataforma Kaggle.\n",
        "\n",
        "Fuente: https://www.kaggle.com/datasets/milanvaddoriya/old-car-price-prediction\n",
        "\n",
        "**2) Breve descripción de datos**\n",
        "\n",
        "La fuente de datos contiene información a detalle de carros antiguos y su precio respectivo.\n",
        "\n",
        "**3) ¿Cuál es el objetivo?**\n",
        "\n",
        "* Analizar los datos de investigación.\n",
        "* Entrenar la fuente para obtener resultados valiosos\n",
        "\n",
        "**4) ¿Este es un problema de clasificación o regresión?**\n",
        "\n",
        "Es un problema de regresión, ya que necesitamos predecir los precios de los carros antiguos\n",
        "\n",
        "**5) ¿Cuántas características hay?**\n",
        "\n",
        "Hay 9 características. \n",
        "\n",
        "**6) ¿Cuántas filas de datos hay?**\n",
        "\n",
        "Hay 5512 filas\n",
        "\n",
        "**7) ¿Qué retos, si es que hay alguno, prevén en la limpieza, exploración o modelización con este conjunto de datos?**\n",
        "\n",
        "Se va a tener que eliminar las medidas estándar de los campos como, por ejemplo, 'kms' del campo kms_driven.\n"
      ],
      "metadata": {
        "id": "UWjO7pyfQc33"
      }
    },
    {
      "cell_type": "code",
      "source": [
        "df['kms_driven'].value_counts()"
      ],
      "metadata": {
        "colab": {
          "base_uri": "https://localhost:8080/"
        },
        "id": "TzqQjMwrUlL2",
        "outputId": "563709bc-a34b-494f-9eee-abae37e63e07"
      },
      "execution_count": 8,
      "outputs": [
        {
          "output_type": "execute_result",
          "data": {
            "text/plain": [
              "80,000 kms      163\n",
              "1,20,000 kms    146\n",
              "60,000 kms      142\n",
              "50,000 kms      136\n",
              "70,000 kms      132\n",
              "               ... \n",
              "79,385 kms        1\n",
              "51,242 kms        1\n",
              "38,733 kms        1\n",
              "77,385 kms        1\n",
              "85,002 kms        1\n",
              "Name: kms_driven, Length: 2610, dtype: int64"
            ]
          },
          "metadata": {},
          "execution_count": 8
        }
      ]
    },
    {
      "cell_type": "code",
      "source": [
        "df.info()"
      ],
      "metadata": {
        "colab": {
          "base_uri": "https://localhost:8080/"
        },
        "id": "_Ul_yF8PPb7m",
        "outputId": "2a12ec0f-16e3-450e-d965-28ab9885331c"
      },
      "execution_count": 9,
      "outputs": [
        {
          "output_type": "stream",
          "name": "stdout",
          "text": [
            "<class 'pandas.core.frame.DataFrame'>\n",
            "RangeIndex: 5512 entries, 0 to 5511\n",
            "Data columns (total 10 columns):\n",
            " #   Column               Non-Null Count  Dtype \n",
            "---  ------               --------------  ----- \n",
            " 0   Unnamed: 0           5512 non-null   int64 \n",
            " 1   car_name             5512 non-null   object\n",
            " 2   car_prices_in_rupee  5512 non-null   object\n",
            " 3   kms_driven           5512 non-null   object\n",
            " 4   fuel_type            5512 non-null   object\n",
            " 5   transmission         5512 non-null   object\n",
            " 6   ownership            5512 non-null   object\n",
            " 7   manufacture          5512 non-null   int64 \n",
            " 8   engine               5512 non-null   object\n",
            " 9   Seats                5512 non-null   object\n",
            "dtypes: int64(2), object(8)\n",
            "memory usage: 430.8+ KB\n"
          ]
        }
      ]
    },
    {
      "cell_type": "code",
      "source": [
        "##df['kms_driven']=df['kms_driven'].str.replace(' kms','')\n",
        "##df['kms_driven']=df['kms_driven'].str.replace(',','')\n",
        "\n",
        "df['engine']=df['engine'].str.replace('cc','')\n"
      ],
      "metadata": {
        "id": "veJgLX_JUwh7"
      },
      "execution_count": 26,
      "outputs": []
    },
    {
      "cell_type": "code",
      "source": [
        "df.info()"
      ],
      "metadata": {
        "colab": {
          "base_uri": "https://localhost:8080/"
        },
        "id": "mBluRYFHVEFk",
        "outputId": "5e72faf2-7953-44c1-9ba9-d680f676f938"
      },
      "execution_count": 27,
      "outputs": [
        {
          "output_type": "stream",
          "name": "stdout",
          "text": [
            "<class 'pandas.core.frame.DataFrame'>\n",
            "RangeIndex: 5512 entries, 0 to 5511\n",
            "Data columns (total 10 columns):\n",
            " #   Column               Non-Null Count  Dtype \n",
            "---  ------               --------------  ----- \n",
            " 0   Unnamed: 0           5512 non-null   int64 \n",
            " 1   car_name             5512 non-null   object\n",
            " 2   car_prices_in_rupee  5512 non-null   object\n",
            " 3   kms_driven           5512 non-null   int64 \n",
            " 4   fuel_type            5512 non-null   object\n",
            " 5   transmission         5512 non-null   object\n",
            " 6   ownership            5512 non-null   object\n",
            " 7   manufacture          5512 non-null   int64 \n",
            " 8   engine               5512 non-null   object\n",
            " 9   Seats                5512 non-null   object\n",
            "dtypes: int64(3), object(7)\n",
            "memory usage: 430.8+ KB\n"
          ]
        }
      ]
    },
    {
      "cell_type": "code",
      "source": [
        "df['engine'].value_counts()"
      ],
      "metadata": {
        "colab": {
          "base_uri": "https://localhost:8080/"
        },
        "id": "uDB5L5h7VGOP",
        "outputId": "eb75eb98-40d9-4355-9030-e991768f5619"
      },
      "execution_count": 28,
      "outputs": [
        {
          "output_type": "execute_result",
          "data": {
            "text/plain": [
              "1197     714\n",
              "1248     395\n",
              "998      346\n",
              "1498     252\n",
              "1497     245\n",
              "        ... \n",
              "1173       1\n",
              "2359       1\n",
              "5950       1\n",
              "3956       1\n",
              "2979       1\n",
              "Name: engine, Length: 139, dtype: int64"
            ]
          },
          "metadata": {},
          "execution_count": 28
        }
      ]
    },
    {
      "cell_type": "code",
      "source": [
        "df['engine'] = df['engine'].astype(int)\n",
        "df.info()"
      ],
      "metadata": {
        "colab": {
          "base_uri": "https://localhost:8080/"
        },
        "id": "R5TG7jKMVNGd",
        "outputId": "0cfe2ad6-e817-43ce-dcf8-ec57194a58ad"
      },
      "execution_count": 29,
      "outputs": [
        {
          "output_type": "stream",
          "name": "stdout",
          "text": [
            "<class 'pandas.core.frame.DataFrame'>\n",
            "RangeIndex: 5512 entries, 0 to 5511\n",
            "Data columns (total 10 columns):\n",
            " #   Column               Non-Null Count  Dtype \n",
            "---  ------               --------------  ----- \n",
            " 0   Unnamed: 0           5512 non-null   int64 \n",
            " 1   car_name             5512 non-null   object\n",
            " 2   car_prices_in_rupee  5512 non-null   object\n",
            " 3   kms_driven           5512 non-null   int64 \n",
            " 4   fuel_type            5512 non-null   object\n",
            " 5   transmission         5512 non-null   object\n",
            " 6   ownership            5512 non-null   object\n",
            " 7   manufacture          5512 non-null   int64 \n",
            " 8   engine               5512 non-null   int64 \n",
            " 9   Seats                5512 non-null   object\n",
            "dtypes: int64(4), object(6)\n",
            "memory usage: 430.8+ KB\n"
          ]
        }
      ]
    },
    {
      "cell_type": "code",
      "source": [],
      "metadata": {
        "id": "QtZlS3ULWXvz"
      },
      "execution_count": null,
      "outputs": []
    }
  ]
}